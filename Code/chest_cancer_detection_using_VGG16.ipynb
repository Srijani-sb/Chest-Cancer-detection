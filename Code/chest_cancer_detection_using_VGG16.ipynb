{
  "nbformat": 4,
  "nbformat_minor": 0,
  "metadata": {
    "colab": {
      "provenance": [],
      "collapsed_sections": []
    },
    "kernelspec": {
      "name": "python3",
      "display_name": "Python 3"
    },
    "language_info": {
      "name": "python"
    },
    "accelerator": "GPU",
    "gpuClass": "standard"
  },
  "cells": [
    {
      "cell_type": "code",
      "source": [
        "# import all the modules and libraries required\n",
        "\n",
        "import os\n",
        "import matplotlib.pyplot as plt\n",
        "import tensorflow \n",
        "\n",
        "from tensorflow import keras\n",
        "\n",
        "from keras.preprocessing.image import ImageDataGenerator\n",
        "\n",
        "from keras.applications.vgg16 import VGG16\n",
        "from keras.models import Sequential\n",
        "from keras.models import Sequential,load_model\n",
        "from keras.layers import InputLayer, BatchNormalization, Dropout, Flatten, Dense, Activation, MaxPool2D, Conv2D, Dropout\n",
        "\n",
        "from keras.utils import to_categorical\n",
        "from keras.optimizers import Adam\n",
        "\n",
        "import keras.backend as K"
      ],
      "metadata": {
        "id": "fspWWbf4E8vA"
      },
      "execution_count": 83,
      "outputs": []
    },
    {
      "cell_type": "code",
      "source": [
        "# log into Kaggle and download the dataset onto the Colab cloud filesystem\n",
        "\n",
        "os.environ['KAGGLE_USERNAME'] = \"mayurshegokar\"\n",
        "os.environ['KAGGLE_KEY'] = \"89bb9b46e5b5fe4d6ed9f996b1bfa8d1\"\n",
        "!kaggle datasets download -d mohamedhanyyy/chest-ctscan-images"
      ],
      "metadata": {
        "colab": {
          "base_uri": "https://localhost:8080/"
        },
        "id": "ZSvsFmaYj1eC",
        "outputId": "c4435c30-24d5-48fd-a8a4-698ea07637f3"
      },
      "execution_count": 84,
      "outputs": [
        {
          "output_type": "stream",
          "name": "stdout",
          "text": [
            "chest-ctscan-images.zip: Skipping, found more recently modified local copy (use --force to force download)\n"
          ]
        }
      ]
    },
    {
      "cell_type": "code",
      "source": [
        "# using ImageDataGenerator to increase input data by generating new data points from existing data\n",
        "\n",
        "train_datagen = ImageDataGenerator(rescale = 1./255,\n",
        "                                   validation_split = 0.2,\n",
        "                                   rotation_range = 5,\n",
        "                                   width_shift_range = 0.2,\n",
        "                                   height_shift_range = 0.2,\n",
        "                                   shear_range = 0.2,\n",
        "                                   horizontal_flip = True,\n",
        "                                   vertical_flip = True,\n",
        "                                   fill_mode = 'nearest')\n",
        "\n",
        "valid_datagen = ImageDataGenerator(rescale = 1./255,\n",
        "                                   validation_split = 0.2)\n",
        "\n",
        "test_datagen  = ImageDataGenerator(rescale = 1./255)"
      ],
      "metadata": {
        "id": "Hu3eMsb2FW5R"
      },
      "execution_count": 85,
      "outputs": []
    },
    {
      "cell_type": "code",
      "source": [
        "# unzip the downloaded dataset from Kaggle\n",
        "\n",
        "from zipfile import ZipFile\n",
        "\n",
        "file_name = \"/content/chest-ctscan-images.zip\"\n",
        "\n",
        "with ZipFile(file_name, 'r') as zip:\n",
        "  zip.extractall()\n",
        "  print('unzip success!')"
      ],
      "metadata": {
        "colab": {
          "base_uri": "https://localhost:8080/"
        },
        "id": "q5oHOjviFqnN",
        "outputId": "e6e8c4ee-217f-4327-bc8e-9b0a9c42af5c"
      },
      "execution_count": 86,
      "outputs": [
        {
          "output_type": "stream",
          "name": "stdout",
          "text": [
            "unzip success!\n"
          ]
        }
      ]
    },
    {
      "cell_type": "code",
      "source": [
        "# generate data for training, testing and validation by converting the images in the provided dataset into the target parameters\n",
        "\n",
        "print('training dataset:')\n",
        "train_dataset  = train_datagen.flow_from_directory(directory = '../content/Data/train',\n",
        "                                                   target_size = (224,224),\n",
        "                                                   class_mode = 'categorical',\n",
        "                                                   batch_size = 64)\n",
        "print('validation dataset: ')\n",
        "valid_dataset = valid_datagen.flow_from_directory(directory = '../content/Data/valid',\n",
        "                                                  target_size = (224,224),\n",
        "                                                  class_mode = 'categorical',\n",
        "                                                  batch_size = 64)\n",
        "print('testing sataset: ')\n",
        "test_dataset = test_datagen.flow_from_directory(directory = '../content/Data/test',\n",
        "                                                  target_size = (224,224),\n",
        "                                                  class_mode = 'categorical',\n",
        "                                                  batch_size = 64)"
      ],
      "metadata": {
        "colab": {
          "base_uri": "https://localhost:8080/"
        },
        "id": "8htxJPdzFg_a",
        "outputId": "de3c9139-f938-49aa-9999-e8c714bebd97"
      },
      "execution_count": 87,
      "outputs": [
        {
          "output_type": "stream",
          "name": "stdout",
          "text": [
            "training dataset:\n",
            "Found 613 images belonging to 4 classes.\n",
            "validation dataset: \n",
            "Found 72 images belonging to 4 classes.\n",
            "testing sataset: \n",
            "Found 315 images belonging to 4 classes.\n"
          ]
        }
      ]
    },
    {
      "cell_type": "code",
      "source": [
        "# freeze the weights for base model layer i.e. VGG \n",
        "\n",
        "base_model = VGG16(input_shape = (224, 224, 3), include_top = False, weights = \"imagenet\")\n",
        "for layer in base_model.layers[:-8]:\n",
        "    layer.trainable = False"
      ],
      "metadata": {
        "id": "YTAICidsHCRh"
      },
      "execution_count": 88,
      "outputs": []
    },
    {
      "cell_type": "code",
      "source": [
        "# build the model for classification by adding more layers to the base model layer i.e. VGG\n",
        "\n",
        "model = Sequential()\n",
        "model.add(base_model)\n",
        "model.add(Dropout(0.5))\n",
        "model.add(Flatten())\n",
        "model.add(BatchNormalization())\n",
        "model.add(Dense(32, kernel_initializer = 'he_uniform'))\n",
        "model.add(BatchNormalization())\n",
        "model.add(Activation('relu'))\n",
        "model.add(Dropout(0.5))\n",
        "model.add(Dense(32, kernel_initializer = 'he_uniform'))\n",
        "model.add(BatchNormalization())\n",
        "model.add(Activation('relu'))\n",
        "model.add(Dropout(0.5))\n",
        "model.add(Dense(32, kernel_initializer = 'he_uniform'))\n",
        "model.add(BatchNormalization())\n",
        "model.add(Activation('relu'))\n",
        "model.add(Dense(4, activation = 'softmax'))"
      ],
      "metadata": {
        "id": "aeswHj3RHJ3k"
      },
      "execution_count": 89,
      "outputs": []
    },
    {
      "cell_type": "code",
      "source": [
        "# print a summary of the model built\n",
        "\n",
        "model.summary()"
      ],
      "metadata": {
        "colab": {
          "base_uri": "https://localhost:8080/"
        },
        "id": "QWg9enpDHNoH",
        "outputId": "0854aae4-4499-4316-8fb2-8e178daf01cd"
      },
      "execution_count": 90,
      "outputs": [
        {
          "output_type": "stream",
          "name": "stdout",
          "text": [
            "Model: \"sequential_5\"\n",
            "_________________________________________________________________\n",
            " Layer (type)                Output Shape              Param #   \n",
            "=================================================================\n",
            " vgg16 (Functional)          (None, 7, 7, 512)         14714688  \n",
            "                                                                 \n",
            " dropout_15 (Dropout)        (None, 7, 7, 512)         0         \n",
            "                                                                 \n",
            " flatten_5 (Flatten)         (None, 25088)             0         \n",
            "                                                                 \n",
            " batch_normalization_20 (Bat  (None, 25088)            100352    \n",
            " chNormalization)                                                \n",
            "                                                                 \n",
            " dense_20 (Dense)            (None, 32)                802848    \n",
            "                                                                 \n",
            " batch_normalization_21 (Bat  (None, 32)               128       \n",
            " chNormalization)                                                \n",
            "                                                                 \n",
            " activation_15 (Activation)  (None, 32)                0         \n",
            "                                                                 \n",
            " dropout_16 (Dropout)        (None, 32)                0         \n",
            "                                                                 \n",
            " dense_21 (Dense)            (None, 32)                1056      \n",
            "                                                                 \n",
            " batch_normalization_22 (Bat  (None, 32)               128       \n",
            " chNormalization)                                                \n",
            "                                                                 \n",
            " activation_16 (Activation)  (None, 32)                0         \n",
            "                                                                 \n",
            " dropout_17 (Dropout)        (None, 32)                0         \n",
            "                                                                 \n",
            " dense_22 (Dense)            (None, 32)                1056      \n",
            "                                                                 \n",
            " batch_normalization_23 (Bat  (None, 32)               128       \n",
            " chNormalization)                                                \n",
            "                                                                 \n",
            " activation_17 (Activation)  (None, 32)                0         \n",
            "                                                                 \n",
            " dense_23 (Dense)            (None, 4)                 132       \n",
            "                                                                 \n",
            "=================================================================\n",
            "Total params: 15,620,516\n",
            "Trainable params: 13,834,660\n",
            "Non-trainable params: 1,785,856\n",
            "_________________________________________________________________\n"
          ]
        }
      ]
    },
    {
      "cell_type": "code",
      "source": [
        "# define some metrics to evaluate the model after training and testing\n",
        "\n",
        "def f1_score(y_true, y_pred):\n",
        "    true_positives = K.sum(K.round(K.clip(y_true * y_pred, 0, 1)))\n",
        "    possible_positives = K.sum(K.round(K.clip(y_true, 0, 1)))\n",
        "    predicted_positives = K.sum(K.round(K.clip(y_pred, 0, 1)))\n",
        "    precision = true_positives / (predicted_positives + K.epsilon())\n",
        "    recall = true_positives / (possible_positives + K.epsilon())\n",
        "    f1_val = 2*(precision*recall)/(precision + recall + K.epsilon())\n",
        "    return f1_val\n",
        "\n",
        "METRICS = [\n",
        "      keras.metrics.BinaryAccuracy(name='accuracy'),\n",
        "      keras.metrics.Precision(name='precision'),\n",
        "      keras.metrics.Recall(name='recall'),  \n",
        "      f1_score,\n",
        "]"
      ],
      "metadata": {
        "id": "iQlx7xCdHvWg"
      },
      "execution_count": 91,
      "outputs": []
    },
    {
      "cell_type": "code",
      "source": [
        "# compile the model using Adam as optimizer and loss function as categorical crossentropy\n",
        "\n",
        "model.compile(optimizer = 'Adam', loss = 'categorical_crossentropy', metrics = METRICS)"
      ],
      "metadata": {
        "id": "-5iVr7fNIIv2"
      },
      "execution_count": 92,
      "outputs": []
    },
    {
      "cell_type": "code",
      "source": [
        "# train the model by slicing the data into batches and repeatedly iterating over the provided dataset for epochs specified\n",
        "\n",
        "history = model.fit(train_dataset,\n",
        "                  validation_data = valid_dataset,\n",
        "                  epochs = 15,\n",
        "                  verbose = 1);"
      ],
      "metadata": {
        "colab": {
          "base_uri": "https://localhost:8080/"
        },
        "id": "NOundktdIL1q",
        "outputId": "2b1997c4-7d28-41ba-9e91-627b247cd91f"
      },
      "execution_count": 98,
      "outputs": [
        {
          "output_type": "stream",
          "name": "stdout",
          "text": [
            "Epoch 1/15\n",
            "10/10 [==============================] - 11s 1s/step - loss: 1.1637 - accuracy: 0.7806 - precision: 0.7451 - recall: 0.1860 - f1_score: 0.3021 - val_loss: 6.9506 - val_accuracy: 0.5938 - val_precision: 0.1831 - val_recall: 0.1806 - val_f1_score: 0.2116\n",
            "Epoch 2/15\n",
            "10/10 [==============================] - 10s 1s/step - loss: 1.1012 - accuracy: 0.7794 - precision: 0.7727 - recall: 0.1664 - f1_score: 0.2741 - val_loss: 5.4571 - val_accuracy: 0.5938 - val_precision: 0.1831 - val_recall: 0.1806 - val_f1_score: 0.1570\n",
            "Epoch 3/15\n",
            "10/10 [==============================] - 11s 1s/step - loss: 1.0823 - accuracy: 0.7904 - precision: 0.8367 - recall: 0.2007 - f1_score: 0.3248 - val_loss: 3.9114 - val_accuracy: 0.6181 - val_precision: 0.2031 - val_recall: 0.1806 - val_f1_score: 0.2167\n",
            "Epoch 4/15\n",
            "10/10 [==============================] - 10s 1s/step - loss: 1.0415 - accuracy: 0.7879 - precision: 0.7962 - recall: 0.2039 - f1_score: 0.3193 - val_loss: 161.3340 - val_accuracy: 0.5903 - val_precision: 0.1806 - val_recall: 0.1806 - val_f1_score: 0.1562\n",
            "Epoch 5/15\n",
            "10/10 [==============================] - 10s 1s/step - loss: 1.0412 - accuracy: 0.7912 - precision: 0.8258 - recall: 0.2088 - f1_score: 0.3307 - val_loss: 4.4002 - val_accuracy: 0.7500 - val_precision: 0.5000 - val_recall: 0.1806 - val_f1_score: 0.3083\n",
            "Epoch 6/15\n",
            "10/10 [==============================] - 10s 1s/step - loss: 0.9975 - accuracy: 0.7904 - precision: 0.8322 - recall: 0.2023 - f1_score: 0.3252 - val_loss: 1.1763 - val_accuracy: 0.7847 - val_precision: 1.0000 - val_recall: 0.1389 - val_f1_score: 0.2344\n",
            "Epoch 7/15\n",
            "10/10 [==============================] - 10s 1s/step - loss: 1.0054 - accuracy: 0.7883 - precision: 0.8013 - recall: 0.2039 - f1_score: 0.3198 - val_loss: 1.2880 - val_accuracy: 0.7847 - val_precision: 1.0000 - val_recall: 0.1389 - val_f1_score: 0.3111\n",
            "Epoch 8/15\n",
            "10/10 [==============================] - 10s 1s/step - loss: 0.9843 - accuracy: 0.7928 - precision: 0.8182 - recall: 0.2202 - f1_score: 0.3474 - val_loss: 1.6321 - val_accuracy: 0.7778 - val_precision: 0.8333 - val_recall: 0.1389 - val_f1_score: 0.2778\n",
            "Epoch 9/15\n",
            "10/10 [==============================] - 10s 1s/step - loss: 0.9586 - accuracy: 0.7977 - precision: 0.8232 - recall: 0.2431 - f1_score: 0.3712 - val_loss: 1.6203 - val_accuracy: 0.6771 - val_precision: 0.3433 - val_recall: 0.3194 - val_f1_score: 0.3501\n",
            "Epoch 10/15\n",
            "10/10 [==============================] - 10s 1s/step - loss: 0.9471 - accuracy: 0.7993 - precision: 0.8168 - recall: 0.2545 - f1_score: 0.3801 - val_loss: 1.0148 - val_accuracy: 0.7847 - val_precision: 1.0000 - val_recall: 0.1389 - val_f1_score: 0.2344\n",
            "Epoch 11/15\n",
            "10/10 [==============================] - 10s 1s/step - loss: 0.9379 - accuracy: 0.8034 - precision: 0.8503 - recall: 0.2594 - f1_score: 0.3926 - val_loss: 0.9758 - val_accuracy: 0.7951 - val_precision: 1.0000 - val_recall: 0.1806 - val_f1_score: 0.2690\n",
            "Epoch 12/15\n",
            "10/10 [==============================] - 10s 1s/step - loss: 0.9408 - accuracy: 0.8018 - precision: 0.8068 - recall: 0.2724 - f1_score: 0.4080 - val_loss: 0.9881 - val_accuracy: 0.7917 - val_precision: 1.0000 - val_recall: 0.1667 - val_f1_score: 0.3351\n",
            "Epoch 13/15\n",
            "10/10 [==============================] - 10s 1s/step - loss: 0.9332 - accuracy: 0.8022 - precision: 0.7832 - recall: 0.2887 - f1_score: 0.4179 - val_loss: 3.7723 - val_accuracy: 0.7569 - val_precision: 0.5357 - val_recall: 0.2083 - val_f1_score: 0.1648\n",
            "Epoch 14/15\n",
            "10/10 [==============================] - 11s 1s/step - loss: 0.9075 - accuracy: 0.8063 - precision: 0.8194 - recall: 0.2887 - f1_score: 0.4235 - val_loss: 103.0505 - val_accuracy: 0.6042 - val_precision: 0.2083 - val_recall: 0.2083 - val_f1_score: 0.1719\n",
            "Epoch 15/15\n",
            "10/10 [==============================] - 11s 1s/step - loss: 0.8823 - accuracy: 0.8014 - precision: 0.7500 - recall: 0.3083 - f1_score: 0.4251 - val_loss: 1.0241 - val_accuracy: 0.7847 - val_precision: 0.9167 - val_recall: 0.1528 - val_f1_score: 0.3216\n"
          ]
        }
      ]
    },
    {
      "cell_type": "code",
      "source": [
        "# evaluate the model on the testing dataset using metrics specified while compiling\n",
        "\n",
        "values = model.evaluate(test_dataset, verbose = 1)\n",
        "print('model accuracy: ', values[1] * 100, '%')\n",
        "print('precision: ', values[2])\n",
        "print('recall: ', values[3])\n",
        "print('f1_score: ', values[4])\n",
        "model.metrics_names"
      ],
      "metadata": {
        "colab": {
          "base_uri": "https://localhost:8080/"
        },
        "id": "Wuo2G3mopg0L",
        "outputId": "f4c0a5f2-7b48-43b4-9366-157a6b6f0b3c"
      },
      "execution_count": 111,
      "outputs": [
        {
          "output_type": "stream",
          "name": "stdout",
          "text": [
            "5/5 [==============================] - 2s 375ms/step - loss: 0.9884 - accuracy: 0.7833 - precision: 0.9773 - recall: 0.1365 - f1_score: 0.2348\n",
            "model accuracy:  78.33333611488342 %\n",
            "precision:  0.9772727489471436\n",
            "recall:  0.13650794327259064\n",
            "f1_score:  0.23480823636054993\n"
          ]
        },
        {
          "output_type": "execute_result",
          "data": {
            "text/plain": [
              "['loss', 'accuracy', 'precision', 'recall', 'f1_score']"
            ]
          },
          "metadata": {},
          "execution_count": 111
        }
      ]
    },
    {
      "cell_type": "code",
      "source": [
        "# plot the accuracy for training and validation across epochs completed\n",
        "\n",
        "%matplotlib inline\n",
        "import matplotlib.pyplot as plt\n",
        "\n",
        "acc = history.history['accuracy']\n",
        "val_acc = history.history['val_accuracy']\n",
        "\n",
        "epochs = range(len(acc))\n",
        "\n",
        "plt.plot(epochs, acc, 'r', label='Training accuracy')\n",
        "plt.plot(epochs, val_acc, 'g', label='Validation accuracy')\n",
        "plt.title('Training and Validation accuracy')\n",
        "plt.legend(loc = 0)\n",
        "plt.ylim(0.6, 0.9)\n",
        "plt.xlim(0, 15)\n",
        "plt.figure()\n",
        "\n",
        "plt.show()"
      ],
      "metadata": {
        "colab": {
          "base_uri": "https://localhost:8080/",
          "height": 298
        },
        "id": "OeFaABdtbQYC",
        "outputId": "6d24fc2a-7c7f-47a2-c1c9-3fd9319076b2"
      },
      "execution_count": 106,
      "outputs": [
        {
          "output_type": "display_data",
          "data": {
            "text/plain": [
              "<Figure size 432x288 with 1 Axes>"
            ],
            "image/png": "[encoded data removed]"
          },
          "metadata": {
            "needs_background": "light"
          }
        },
        {
          "output_type": "display_data",
          "data": {
            "text/plain": [
              "<Figure size 432x288 with 0 Axes>"
            ]
          },
          "metadata": {}
        }
      ]
    },
    {
      "cell_type": "code",
      "source": [
        "# plot the accuracy for training and validation across epochs completed\n",
        "\n",
        "%matplotlib inline\n",
        "import matplotlib.pyplot as plt\n",
        "\n",
        "acc = history.history['accuracy']\n",
        "val_acc = history.history['val_accuracy']\n",
        "loss = history.history['loss']\n",
        "val_loss = history.history['val_loss']\n",
        "\n",
        "epochs = range(len(acc))\n",
        "\n",
        "fig, (plt1, plt2) = plt.subplots(1, 2, figsize= (20, 5))\n",
        "fig.suptitle(\"TRAINING v/s TESTING - METRICS\")\n",
        "\n",
        "plt1.plot(epochs, acc, 'r', label='Training accuracy')\n",
        "plt1.plot(epochs, val_acc, 'b', label='Validation accuracy')\n",
        "plt1.legend(loc = 0)\n",
        "\n",
        "plt2.plot(epochs, loss, 'm', label='Training loss')\n",
        "plt2.plot(epochs, val_loss, 'c', label='Validation loss')\n",
        "plt2.legend(loc = 0)\n",
        "\n",
        "plt.show()"
      ],
      "metadata": {
        "colab": {
          "base_uri": "https://localhost:8080/",
          "height": 356
        },
        "id": "UChVVdKg1PFp",
        "outputId": "1906faad-f419-4053-c83b-a3b000ffa421"
      },
      "execution_count": 115,
      "outputs": [
        {
          "output_type": "display_data",
          "data": {
            "text/plain": [
              "<Figure size 1440x360 with 2 Axes>"
            ],
            "image/png": "[encoded data removed]"
          },
          "metadata": {
            "needs_background": "light"
          }
        }
      ]
    }
  ]
}